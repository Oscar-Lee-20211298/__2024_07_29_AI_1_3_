{
 "cells": [
  {
   "cell_type": "code",
   "execution_count": 1,
   "metadata": {},
   "outputs": [
    {
     "name": "stdout",
     "output_type": "stream",
     "text": [
      "15,24 gcd are:\n",
      "1 3 "
     ]
    }
   ],
   "source": [
    "v1 = int(input(\"please enter 1st number:\"))\n",
    "v2 = int(input(\"please enter 2nd number:\"))\n",
    "\n",
    "(max,min) = (v1,v2) if v1 > v2 else (v2,v1)\n",
    "\n",
    "print(f'{v1},{v2} gcd are:')\n",
    "\n",
    "for n in range(1,min + 1):\n",
    "    if ((max % n)==0) & ((min % n)==0) :\n",
    "        print(n,end=\" \")"
   ]
  },
  {
   "cell_type": "code",
   "execution_count": 4,
   "metadata": {},
   "outputs": [
    {
     "name": "stdout",
     "output_type": "stream",
     "text": [
      "after 2 month, you have save 35801 dollars\n"
     ]
    }
   ],
   "source": [
    "deposit = 0\n",
    "month = 0\n",
    "while deposit < 30000 :\n",
    "   month += 1\n",
    "   money = int(input(f'please enter your money {month} month:'))\n",
    "   deposit += money\n",
    "print(f\"after {month} month, you have save {deposit} dollars\")"
   ]
  },
  {
   "cell_type": "code",
   "execution_count": 6,
   "metadata": {},
   "outputs": [
    {
     "name": "stdout",
     "output_type": "stream",
     "text": [
      "<class 'str'>\n",
      "Taiwan\n",
      "Japan\n",
      "app is end\n"
     ]
    }
   ],
   "source": [
    "stuff = input(\"please small letter word[enter q will be exit]:\")\n",
    "print(type(stuff))\n",
    "while not stuff =='q':\n",
    "    print(stuff.capitalize())\n",
    "    stuff = input(\"please small letter word[enter q will be exit]:\")\n",
    "print(\"app is end\")\n",
    "\n"
   ]
  },
  {
   "cell_type": "code",
   "execution_count": 8,
   "metadata": {},
   "outputs": [
    {
     "name": "stdout",
     "output_type": "stream",
     "text": [
      "Taiwan\n",
      "Japan\n",
      "app is end\n"
     ]
    }
   ],
   "source": [
    "while True:\n",
    "    stuff = input(\"please small letter word[enter q will be exit]:\")\n",
    "    if stuff == 'q':\n",
    "        break\n",
    "    else:\n",
    "        print(stuff.capitalize())\n",
    "\n",
    "print(\"app is end\")\n"
   ]
  },
  {
   "cell_type": "code",
   "execution_count": 5,
   "metadata": {},
   "outputs": [
    {
     "name": "stdout",
     "output_type": "stream",
     "text": [
      "kanty  bmi is 50.11861405325938,is seriously heavy\n",
      "app is end\n"
     ]
    }
   ],
   "source": [
    "while True:\n",
    "    try:\n",
    "        name=str(input(\"please enter your name\"))\n",
    "        height=float(input('please enter your height'))\n",
    "        weight=float(input('please enter your weight'))\n",
    "        bmi=weight/(height**2)\n",
    "        if bmi<18.5:\n",
    "            grade=\"too thin\"\n",
    "        elif bmi<24:\n",
    "            grade=\"normal\"\n",
    "        elif bmi<27:\n",
    "            grade=\"heavy\"\n",
    "        elif bmi<30:\n",
    "            grade=\"simple heavy\"\n",
    "        elif bmi<35:\n",
    "            grade=\"normal heavy\"\n",
    "        else:\n",
    "            grade=\"seriously heavy\"\n",
    "        print(f\"{name}  bmi is {bmi},is {grade}\")\n",
    "    except ValueError:\n",
    "        print(\"format error\")\n",
    "    stuff = input(\"please enter next data ('q':quit)\")\n",
    "\n",
    "    if stuff == 'q':\n",
    "        break\n",
    "    else:\n",
    "        continue\n",
    "\n",
    "print(\"app is end\")"
   ]
  }
 ],
 "metadata": {
  "kernelspec": {
   "display_name": "Python 3",
   "language": "python",
   "name": "python3"
  },
  "language_info": {
   "codemirror_mode": {
    "name": "ipython",
    "version": 3
   },
   "file_extension": ".py",
   "mimetype": "text/x-python",
   "name": "python",
   "nbconvert_exporter": "python",
   "pygments_lexer": "ipython3",
   "version": "3.11.9"
  }
 },
 "nbformat": 4,
 "nbformat_minor": 2
}
