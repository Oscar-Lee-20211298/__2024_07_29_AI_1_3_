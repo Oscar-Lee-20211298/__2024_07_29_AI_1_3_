{
 "cells": [
  {
   "cell_type": "code",
   "execution_count": 5,
   "metadata": {},
   "outputs": [
    {
     "name": "stdout",
     "output_type": "stream",
     "text": [
      "2.5=1.5 kg\n"
     ]
    }
   ],
   "source": [
    "kg_twn = float(input(\"input taiwanese kg\"))\n",
    "kg =  kg_twn* 0.6\n",
    "#print(str(kg_twn)+\"taiwanese kg=\"+ str(kg)+ \" kg\" )\n",
    "print(f'{kg_twn}={kg} kg' )"
   ]
  },
  {
   "cell_type": "code",
   "execution_count": 3,
   "metadata": {},
   "outputs": [
    {
     "name": "stdout",
     "output_type": "stream",
     "text": [
      "hello:lee\n",
      "your BMI is:24.816326530612244\n",
      "normal\n"
     ]
    }
   ],
   "source": [
    "name =(input(\"name:\"))\n",
    "kg = float(input(\"weight:\"))\n",
    "m = float(input(\"height:\"))\n",
    "bmi = kg/ m**2\n",
    "print(f'hello:{name}')\n",
    "print(f'your BMI is:{bmi}')\n",
    "if ((bmi >= 18.5) | (bmi <= 24)):\n",
    "    print( \"normal\")\n",
    "else : \n",
    "    if bmi < 18: print( \"too thin\")\n",
    "    elif bmi>=24: print( \"too heavy\")\n",
    "    elif bmi>=27: print( \"simple fat\")\n",
    "    elif bmi>=30: print( \"normal fat\")\n",
    "    elif bmi>=35: print( \"hardly fat\")"
   ]
  }
 ],
 "metadata": {
  "kernelspec": {
   "display_name": "Python 3",
   "language": "python",
   "name": "python3"
  },
  "language_info": {
   "codemirror_mode": {
    "name": "ipython",
    "version": 3
   },
   "file_extension": ".py",
   "mimetype": "text/x-python",
   "name": "python",
   "nbconvert_exporter": "python",
   "pygments_lexer": "ipython3",
   "version": "3.11.9"
  }
 },
 "nbformat": 4,
 "nbformat_minor": 2
}
