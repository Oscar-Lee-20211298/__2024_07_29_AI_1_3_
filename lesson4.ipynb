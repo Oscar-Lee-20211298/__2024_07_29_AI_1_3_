{
 "cells": [
  {
   "cell_type": "code",
   "execution_count": null,
   "metadata": {},
   "outputs": [],
   "source": [
    "age = 25\n",
    "\n",
    "if age >= 18:\n",
    "    print(\"you can pass the drive license\")\n",
    "else:\n",
    "    print(\"you can't pass the drive license\")\n",
    "    "
   ]
  },
  {
   "cell_type": "code",
   "execution_count": null,
   "metadata": {},
   "outputs": [],
   "source": [
    "age = 16\n",
    "\n",
    "if age >= 18:\n",
    "    print(\"you can pass the drive license\")\n",
    "else:\n",
    "    print(\"you can't pass the drive license\")\n",
    "    "
   ]
  },
  {
   "cell_type": "code",
   "execution_count": null,
   "metadata": {},
   "outputs": [],
   "source": [
    "import math\n",
    "score = int(input('enter student score(300 is max ):'))\n",
    "is_add = input('has student a task of add point?(y,n)')\n",
    "\n",
    "if is_add =='y':\n",
    "    score *= 1.05\n",
    "    score = math.ceil(score)\n",
    "\n",
    "print (f'student total score is:{score}')"
   ]
  },
  {
   "cell_type": "code",
   "execution_count": null,
   "metadata": {},
   "outputs": [],
   "source": [
    "import math\n",
    "score = int(input('enter student score(300 is max ):'))\n",
    "is_add = input('has student a task of add point?(y,n)')\n",
    "\n",
    "if is_add =='y':\n",
    "    score *= 1.05\n",
    "    score = math.ceil(score)\n",
    "    if score > 300:\n",
    "        score = 300\n",
    "\n",
    "\n",
    "print (f'student total score is:{score}')"
   ]
  },
  {
   "cell_type": "code",
   "execution_count": null,
   "metadata": {},
   "outputs": [],
   "source": [
    "import math\n",
    "try:\n",
    "    score = int(input('enter student score(300 is max ):'))\n",
    "except:\n",
    "    print(\"format error\")\n",
    "else:\n",
    "    is_add = input('has student a task of add point?(y,n)')\n",
    "\n",
    "    if is_add =='y':\n",
    "        score *= 1.05\n",
    "        score = math.ceil(score)\n",
    "\n",
    "    print (f'student total score is:{score}')\n",
    "print (\"end\")"
   ]
  },
  {
   "cell_type": "code",
   "execution_count": null,
   "metadata": {},
   "outputs": [],
   "source": [
    "import math\n",
    "try:\n",
    "    score = int(input('enter student score(300 is max ):'))\n",
    "    raise NameError\n",
    "except ValueError:\n",
    "    print(\"format error\")\n",
    "except Exception:\n",
    "    print(\"unknown error\")\n",
    "else:\n",
    "    is_add = input('has student a task of add point?(y,n)')\n",
    "\n",
    "    if is_add =='y':\n",
    "        score *= 1.05\n",
    "        score = math.ceil(score)\n",
    "\n",
    "    print (f'student total score is:{score}')\n",
    "print (\"end\")"
   ]
  },
  {
   "cell_type": "code",
   "execution_count": null,
   "metadata": {},
   "outputs": [],
   "source": [
    "import math\n",
    "try:\n",
    "    score = int(input('enter student score(300 is max ):'))\n",
    "    if (score > 300) | (score < 0):\n",
    "        raise Exception\n",
    "except ValueError:\n",
    "    print(\"format error\")\n",
    "except Exception:\n",
    "    print(\"out of range\")\n",
    "else:\n",
    "    is_add = input('has student a task of add point?(y,n)')\n",
    "\n",
    "    if is_add =='y':\n",
    "        score *= 1.05\n",
    "        score = math.ceil(score)\n",
    "\n",
    "    print (f'student total score is:{score}')\n",
    "print (\"end\")"
   ]
  },
  {
   "cell_type": "code",
   "execution_count": null,
   "metadata": {},
   "outputs": [],
   "source": [
    "import math\n",
    "try:\n",
    "    score = int(input('enter student score(300 is max ):'))\n",
    "    if (score > 300) | (score < 0):\n",
    "        raise Exception\n",
    "    \n",
    "    is_add = input('has student a task of add point?(y,n)')\n",
    "    if is_add =='y':\n",
    "        score *= 1.05\n",
    "        score = math.ceil(score)\n",
    "\n",
    "    print (f'student total score is:{score}')\n",
    "except ValueError:\n",
    "    print(\"format error\")\n",
    "except Exception:\n",
    "    print(\"out of range\")\n",
    " \n",
    "print (\"end\")"
   ]
  },
  {
   "cell_type": "code",
   "execution_count": 6,
   "metadata": {},
   "outputs": [
    {
     "name": "stdout",
     "output_type": "stream",
     "text": [
      " student score level is F\n"
     ]
    }
   ],
   "source": [
    "score = float(input('enter student score:'))\n",
    "if score >= 90:\n",
    "   grade = 'A'\n",
    "elif score >= 80:\n",
    "      grade ='B'\n",
    "elif score >= 70:\n",
    "      grade ='C'  \n",
    "elif score >= 60:\n",
    "      grade ='D' \n",
    "else:\n",
    "     grade ='F'  \n",
    " \n",
    "print(f\" student score level is {grade}\")\n"
   ]
  },
  {
   "cell_type": "code",
   "execution_count": 9,
   "metadata": {},
   "outputs": [
    {
     "name": "stdout",
     "output_type": "stream",
     "text": [
      "acturally bill is:98765\n"
     ]
    }
   ],
   "source": [
    "import math\n",
    "money = int(input('please enter price you pay:'))\n",
    "if money < 10000:\n",
    "    bill = money\n",
    "elif money < 30000:\n",
    "    bill = money * 0.95\n",
    "elif money < 50000:\n",
    "    bill = money * 0.9\n",
    "elif money < 100000:\n",
    "    bill = money * 0.85\n",
    "else:\n",
    "    bill = money * 0.8\n",
    "\n",
    "print(f\"acturally bill is:{math.ceil(bill)}\")\n",
    "\n"
   ]
  },
  {
   "cell_type": "code",
   "execution_count": 10,
   "metadata": {},
   "outputs": [
    {
     "name": "stdout",
     "output_type": "stream",
     "text": [
      "you can pass the drive license\n"
     ]
    }
   ],
   "source": [
    "age = 25\n",
    "\n",
    "if not age < 18:\n",
    "    print(\"you can pass the drive license\")\n",
    "else:\n",
    "    print(\"you can't pass the drive license\")"
   ]
  }
 ],
 "metadata": {
  "kernelspec": {
   "display_name": "Python 3",
   "language": "python",
   "name": "python3"
  },
  "language_info": {
   "codemirror_mode": {
    "name": "ipython",
    "version": 3
   },
   "file_extension": ".py",
   "mimetype": "text/x-python",
   "name": "python",
   "nbconvert_exporter": "python",
   "pygments_lexer": "ipython3",
   "version": "3.11.9"
  }
 },
 "nbformat": 4,
 "nbformat_minor": 2
}
