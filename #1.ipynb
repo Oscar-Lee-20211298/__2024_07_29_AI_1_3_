{
 "cells": [
  {
   "cell_type": "code",
   "execution_count": 1,
   "metadata": {},
   "outputs": [
    {
     "name": "stdout",
     "output_type": "stream",
     "text": [
      "縣市\n",
      "新北市    1256\n",
      "臺中市     855\n",
      "臺北市     780\n",
      "高雄市     718\n",
      "桃園市     670\n",
      "Name: 醫事機構代碼, dtype: int64\n"
     ]
    }
   ],
   "source": [
    "import pandas as pd\n",
    "# download file from url\n",
    "df= pd.read_csv('https://raw.githubusercontent.com/kiang/pharmacies/master/data.csv')\n",
    "\n",
    "# foo1, foo2, foo3 都是 series\n",
    "foo1 = df.groupby('縣市')['醫事機構代碼'].count()\n",
    "foo2 = foo1.sort_values(ascending=False)\n",
    "foo3 = foo2.head(5)\n",
    "print(df.groupby('縣市')['醫事機構代碼'].count().sort_values(ascending=False).head(5))\n"
   ]
  }
 ],
 "metadata": {
  "kernelspec": {
   "display_name": "Python 3",
   "language": "python",
   "name": "python3"
  },
  "language_info": {
   "codemirror_mode": {
    "name": "ipython",
    "version": 3
   },
   "file_extension": ".py",
   "mimetype": "text/x-python",
   "name": "python",
   "nbconvert_exporter": "python",
   "pygments_lexer": "ipython3",
   "version": "3.11.9"
  }
 },
 "nbformat": 4,
 "nbformat_minor": 2
}
