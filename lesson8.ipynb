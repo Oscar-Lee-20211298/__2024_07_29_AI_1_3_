{
 "cells": [
  {
   "cell_type": "code",
   "execution_count": 1,
   "metadata": {},
   "outputs": [
    {
     "data": {
      "text/plain": [
       "'xxxxxxx'"
      ]
     },
     "execution_count": 1,
     "metadata": {},
     "output_type": "execute_result"
    }
   ],
   "source": [
    "'xxxxxxx'"
   ]
  },
  {
   "cell_type": "code",
   "execution_count": 2,
   "metadata": {},
   "outputs": [
    {
     "data": {
      "text/plain": [
       "'\\nxxxxxxxxxxxxxx\\nxxxxxxxxxxxx\\nxxxxxxxxx\\n'"
      ]
     },
     "metadata": {},
     "output_type": "display_data"
    },
    {
     "name": "stdout",
     "output_type": "stream",
     "text": [
      "\n",
      "xxxxxxxxxxxxxx\n",
      "xxxxxxxxxxxx\n",
      "xxxxxxxxx\n",
      "\n"
     ]
    }
   ],
   "source": [
    "multi_line = '''\n",
    "xxxxxxxxxxxxxx\n",
    "xxxxxxxxxxxx\n",
    "xxxxxxxxx\n",
    "'''\n",
    "display(multi_line)\n",
    "print(multi_line)\n"
   ]
  },
  {
   "cell_type": "code",
   "execution_count": 3,
   "metadata": {},
   "outputs": [
    {
     "name": "stdout",
     "output_type": "stream",
     "text": [
      "lee  bmi is 24.816326530612244,is heavy\n",
      "app is end\n"
     ]
    }
   ],
   "source": [
    "def get_status_message(bmi: float) -> str:\n",
    "    '''\n",
    "    caculate bmi\n",
    "\n",
    "    '''\n",
    "    if bmi<18.5:\n",
    "        return \"too thin\"\n",
    "    elif bmi<24:\n",
    "        return \"normal\"\n",
    "    elif bmi<27:\n",
    "        return \"heavy\"\n",
    "    elif bmi<30:\n",
    "        return \"simple heavy\"\n",
    "    elif bmi<35:\n",
    "        return \"normal heavy\"\n",
    "    else:\n",
    "        return \"seriously heavy\"\n",
    "\n",
    "\n",
    "while True:\n",
    "    try:\n",
    "        name=str(input(\"please enter your name\"))\n",
    "        height=float(input('please enter your height'))\n",
    "        weight=float(input('please enter your weight'))\n",
    "        bmi=weight/(height**2)\n",
    "        grade = get_status_message(bmi)\n",
    "        print(f\"{name}  bmi is {bmi},is {grade}\")\n",
    "    except ValueError:\n",
    "        print(\"format error\")\n",
    "        continue\n",
    "    stuff = input(\"please enter next data ('q':quit)\")\n",
    "\n",
    "    if stuff == 'q':\n",
    "        break\n",
    "print(\"app is end\")"
   ]
  },
  {
   "cell_type": "code",
   "execution_count": 4,
   "metadata": {},
   "outputs": [
    {
     "name": "stdout",
     "output_type": "stream",
     "text": [
      "(1, 2, 3, 'a')\n"
     ]
    }
   ],
   "source": [
    "def print_args(*args):\n",
    "    print(args)\n",
    "\n",
    "print_args(1,2,3,'a')"
   ]
  },
  {
   "cell_type": "code",
   "execution_count": 7,
   "metadata": {},
   "outputs": [
    {
     "name": "stdout",
     "output_type": "stream",
     "text": [
      "{'us': 'unites state'}\n"
     ]
    }
   ],
   "source": [
    "def print_kwargs(**kwargs):\n",
    "    print(kwargs)\n",
    "\n",
    "print_kwargs(us='unites state')\n",
    "\n"
   ]
  },
  {
   "cell_type": "code",
   "execution_count": 8,
   "metadata": {},
   "outputs": [
    {
     "name": "stdout",
     "output_type": "stream",
     "text": [
      "(1, 2, 3, 'a')\n",
      "{'us': 'unites state'}\n"
     ]
    }
   ],
   "source": [
    "def print_args(*args,**kwargs ):\n",
    "    print(args)\n",
    "    print(kwargs)\n",
    "\n",
    "print_args(1,2,3,'a',us='unites state')"
   ]
  },
  {
   "cell_type": "code",
   "execution_count": 10,
   "metadata": {},
   "outputs": [
    {
     "data": {
      "text/plain": [
       "__main__.Person"
      ]
     },
     "execution_count": 10,
     "metadata": {},
     "output_type": "execute_result"
    }
   ],
   "source": [
    "class Person():\n",
    "    pass\n",
    "\n",
    "p1 = Person()\n",
    "type(p1)\n",
    "p2 = Person()\n",
    "type(p2)"
   ]
  },
  {
   "cell_type": "code",
   "execution_count": 19,
   "metadata": {},
   "outputs": [
    {
     "name": "stdout",
     "output_type": "stream",
     "text": [
      "robert\n",
      "lee\n"
     ]
    }
   ],
   "source": [
    "class Person():\n",
    "    def __init__(self,name:str):\n",
    "        self.name = name\n",
    "\n",
    "\n",
    "p1 = Person(name = 'robert')\n",
    "print(p1.name)\n",
    "p2 = Person('lee')\n",
    "print(p2.name)"
   ]
  },
  {
   "cell_type": "code",
   "execution_count": 21,
   "metadata": {},
   "outputs": [
    {
     "name": "stdout",
     "output_type": "stream",
     "text": [
      "my name is : robert\n",
      "my name is : lee\n"
     ]
    }
   ],
   "source": [
    "class Person():\n",
    "    def __init__(self,name:str):\n",
    "        self.name = name\n",
    "\n",
    "    def description(self)->str:\n",
    "        return f'my name is : {self.name}'\n",
    "\n",
    "p1 = Person(name = 'robert')\n",
    "print(p1.description())\n",
    "p2 = Person('lee')\n",
    "print(p2.description())"
   ]
  },
  {
   "cell_type": "code",
   "execution_count": 26,
   "metadata": {},
   "outputs": [
    {
     "name": "stdout",
     "output_type": "stream",
     "text": [
      "my name is : robert\n",
      " chinese grade: 70\n",
      " english grade: 95\n",
      "my sum is:165\n",
      "my ave is:82.5\n",
      "my name is : lee\n",
      " chinese grade: 86\n",
      " english grade: 92\n",
      "my sum is:178\n",
      "my ave is:89.0\n"
     ]
    }
   ],
   "source": [
    "class Person():\n",
    "    def __init__(self,name:str,c:int,e:int):\n",
    "        self.name = name\n",
    "        self.chinese = c\n",
    "        self.english = e\n",
    "    \n",
    "    def sum(self) ->int:\n",
    "        return self.chinese + self.english\n",
    "    \n",
    "    def average(self) -> float:\n",
    "        return self.sum() / 2.0\n",
    "\n",
    "    def description(self)->str:\n",
    "        return f'my name is : {self.name}\\n chinese grade: {self.chinese }\\n english grade: {self.english }'\n",
    "\n",
    "p1 = Person(name = 'robert',e = 95,c = 70)\n",
    "print(p1.description())\n",
    "print(f'my sum is:{p1.sum()}')\n",
    "print(f'my ave is:{p1.average()}')\n",
    "p2 = Person('lee',86,92)\n",
    "print(p2.description())\n",
    "print(f'my sum is:{p2.sum()}')\n",
    "print(f'my ave is:{p2.average()}')\n"
   ]
  },
  {
   "cell_type": "code",
   "execution_count": 3,
   "metadata": {},
   "outputs": [
    {
     "name": "stdout",
     "output_type": "stream",
     "text": [
      "lee 's BMI is 24.816326530612244, is heavy\n",
      "app is end\n"
     ]
    }
   ],
   "source": [
    "class BMI():\n",
    "    def __init__(self, name:str, height:float, weight:float):\n",
    "        self.name = name\n",
    "        self.height = height\n",
    "        self.weight = weight\n",
    "\n",
    "    def getName(self) -> str:\n",
    "        return self.name\n",
    "\n",
    "    def getBMI(self) -> float:\n",
    "        return self.weight / (self.height ** 2)\n",
    "\n",
    "    def get_status_message(self, bmi: float) -> str:\n",
    "\n",
    "        if bmi<18.5:\n",
    "            return \"too thin\"\n",
    "        elif bmi<24:\n",
    "            return \"normal\"\n",
    "        elif bmi<27:\n",
    "            return \"heavy\"\n",
    "        elif bmi<30:\n",
    "            return \"simple heavy\"\n",
    "        elif bmi<35:\n",
    "            return \"normal heavy\"\n",
    "        else:\n",
    "            return \"seriously heavy\"\n",
    "        \n",
    "    def result(self) -> str:\n",
    "        bmi = self.getBMI()\n",
    "        return f\"{self.getName()} 's BMI is {bmi}, is {self.get_status_message(bmi)}\"\n",
    "\n",
    "while True:\n",
    "    try:\n",
    "        name=str(input(\"please enter your name\"))\n",
    "        height=float(input('please enter your height'))\n",
    "        weight=float(input('please enter your weight'))\n",
    "\n",
    "        Mybmi = BMI(name=name, height=height, weight=weight)\n",
    "        print(Mybmi.result())\n",
    "\n",
    "    except ValueError:\n",
    "        print(\"format error\")\n",
    "        continue\n",
    "    stuff = input(\"please enter next data ('q':quit)\")\n",
    "\n",
    "    if stuff == 'q':\n",
    "        break\n",
    "print(\"app is end\")"
   ]
  }
 ],
 "metadata": {
  "kernelspec": {
   "display_name": "Python 3",
   "language": "python",
   "name": "python3"
  },
  "language_info": {
   "codemirror_mode": {
    "name": "ipython",
    "version": 3
   },
   "file_extension": ".py",
   "mimetype": "text/x-python",
   "name": "python",
   "nbconvert_exporter": "python",
   "pygments_lexer": "ipython3",
   "version": "3.11.9"
  }
 },
 "nbformat": 4,
 "nbformat_minor": 2
}
