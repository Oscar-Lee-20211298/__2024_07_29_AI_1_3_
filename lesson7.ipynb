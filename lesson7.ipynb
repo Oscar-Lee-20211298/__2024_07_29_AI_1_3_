{
 "cells": [
  {
   "cell_type": "code",
   "execution_count": 2,
   "metadata": {},
   "outputs": [
    {
     "data": {
      "text/plain": [
       "92"
      ]
     },
     "execution_count": 2,
     "metadata": {},
     "output_type": "execute_result"
    }
   ],
   "source": [
    "import random\n",
    "n = int(input(\"please enter  number:\"))\n",
    "random.randint(1,n)"
   ]
  },
  {
   "cell_type": "code",
   "execution_count": 5,
   "metadata": {},
   "outputs": [
    {
     "name": "stdout",
     "output_type": "stream",
     "text": [
      "app is end\n"
     ]
    }
   ],
   "source": [
    "import random\n",
    "v1 = int(input(\"please enter 1st number:\"))\n",
    "v2 = int(input(\"please enter 2nd number:\"))\n",
    "\n",
    "target = int(random.randint(v1,v2))\n",
    "\n",
    "while True:\n",
    "    keyin = int(input(f\"guess range (min)~(max):\"))\n",
    "    break\n",
    "print(\"app is end\")"
   ]
  },
  {
   "cell_type": "code",
   "execution_count": 11,
   "metadata": {},
   "outputs": [
    {
     "name": "stdout",
     "output_type": "stream",
     "text": [
      "please enter integer:"
     ]
    },
    {
     "data": {
      "text/plain": [
       "int"
      ]
     },
     "execution_count": 11,
     "metadata": {},
     "output_type": "execute_result"
    }
   ],
   "source": [
    "import pyinputplus as pyip\n",
    "num = pyip.inputInt('please enter integer:')\n",
    "type(num)"
   ]
  },
  {
   "cell_type": "code",
   "execution_count": 12,
   "metadata": {},
   "outputs": [
    {
     "name": "stdout",
     "output_type": "stream",
     "text": [
      "please enter integer:50\n"
     ]
    }
   ],
   "source": [
    "import pyinputplus as pyip\n",
    "num = pyip.inputInt('please enter integer:',min = 1,max = 100)\n",
    "print(num)"
   ]
  },
  {
   "cell_type": "code",
   "execution_count": 3,
   "metadata": {},
   "outputs": [
    {
     "name": "stdout",
     "output_type": "stream",
     "text": [
      "guess range 1~100:smaller\n",
      "guess 1 time\n",
      "guess range 1~49:smaller\n",
      "guess 2 time\n",
      "guess range 1~24:biggerr\n",
      "guess 3 time\n",
      "guess range 13~24:smaller\n",
      "guess 4 time\n",
      "guess range 13~18:Number must be at maximum 18.\n",
      "guess range 13~18:congraguration,answer is 15\n",
      "guess 5 time\n",
      "app is end\n"
     ]
    }
   ],
   "source": [
    "import random\n",
    "import pyinputplus as pyip\n",
    "\n",
    "min = int(input(\"please enter min number:\"))\n",
    "max = int(input(\"please enter max number:\"))\n",
    "\n",
    "count = 0\n",
    "target = random.randint(min,max)\n",
    "\n",
    "while True:\n",
    "    count += 1\n",
    "    keyin = pyip.inputInt(f\"guess range {min}~{max}:\",min=min,max=max)\n",
    "    if keyin == target:\n",
    "        print(f\"congraguration,answer is {keyin}\")\n",
    "        print(f\"guess {count} time\")\n",
    "        break\n",
    "    elif keyin > target:\n",
    "        print(\"smaller\")\n",
    "        max = keyin - 1\n",
    "    elif keyin < target:\n",
    "        print(\"biggerr\")\n",
    "        min = keyin + 1\n",
    "    print(f\"guess {count} time\")\n",
    "\n",
    "print(\"app is end\")"
   ]
  },
  {
   "cell_type": "code",
   "execution_count": null,
   "metadata": {},
   "outputs": [],
   "source": [
    "import random\n",
    "import pyinputplus as pyip\n",
    "\n",
    "while True:\n",
    "    min = int(input(\"please enter min number:\"))\n",
    "    max = int(input(\"please enter max number:\"))\n",
    "    count = 0\n",
    "    target = random.randint(min,max)\n",
    "\n",
    "    while True:\n",
    "        count += 1\n",
    "        keyin = pyip.inputInt(f\"guess range {min}~{max}:\",min=min,max=max)\n",
    "        if keyin == target:\n",
    "            print(f\"congraguration,answer is {keyin}\")\n",
    "            print(f\"guess {count} time\")\n",
    "            break\n",
    "        elif keyin > target:\n",
    "            print(\"smaller\")\n",
    "            max = keyin - 1\n",
    "        elif keyin < target:\n",
    "            print(\"biggerr\")\n",
    "            min = keyin + 1\n",
    "        print(f\"guess {count} time\")\n",
    "    is_play = pyip,inputYesNo(\"continue? \")\n",
    "    if is_play == 'no':\n",
    "        break\n",
    "    \n",
    "print(\"app is end\")"
   ]
  },
  {
   "cell_type": "code",
   "execution_count": 4,
   "metadata": {},
   "outputs": [
    {
     "name": "stdout",
     "output_type": "stream",
     "text": [
      "18\n",
      "80\n"
     ]
    }
   ],
   "source": [
    "def addition(a:int, b:int) ->int:\n",
    "    return a + b\n",
    "\n",
    "def multiply(a:int, c:int) ->int:\n",
    "    return a * c\n",
    "\n",
    "a = int(input(\"please enter a number:\"))\n",
    "b = int(input(\"please enter b number:\"))\n",
    "c = int(input(\"please enter c number:\"))\n",
    "\n",
    "print(addition(a,b))\n",
    "print(multiply(c,a))\n"
   ]
  },
  {
   "cell_type": "code",
   "execution_count": 5,
   "metadata": {},
   "outputs": [],
   "source": [
    "def menu(wine:str, entree:str, dessert:str):\n",
    "    print(f\"alocoho:{wine}\")\n",
    "    print(f\"primary meal:{entree}\")\n",
    "    print(f\"snake:{dessert}\")"
   ]
  },
  {
   "cell_type": "code",
   "execution_count": 6,
   "metadata": {},
   "outputs": [
    {
     "name": "stdout",
     "output_type": "stream",
     "text": [
      "alocoho:beer\n",
      "primary meal:steak\n",
      "snake:cake\n"
     ]
    }
   ],
   "source": [
    "menu('beer', 'steak', 'cake')\n",
    "   "
   ]
  },
  {
   "cell_type": "code",
   "execution_count": 7,
   "metadata": {},
   "outputs": [
    {
     "name": "stdout",
     "output_type": "stream",
     "text": [
      "alocoho:beer\n",
      "primary meal:steak\n",
      "snake:cake\n"
     ]
    }
   ],
   "source": [
    "menu(dessert='cake',wine ='beer', entree ='steak' )"
   ]
  },
  {
   "cell_type": "code",
   "execution_count": 8,
   "metadata": {},
   "outputs": [
    {
     "name": "stdout",
     "output_type": "stream",
     "text": [
      "alocoho:beer\n",
      "primary meal:steak\n",
      "snake:cake\n"
     ]
    }
   ],
   "source": [
    "menu('beer',dessert='cake', entree ='steak')"
   ]
  },
  {
   "cell_type": "code",
   "execution_count": 9,
   "metadata": {},
   "outputs": [],
   "source": [
    "def menu(wine:str, entree:str, dessert:str = 'milkshake'):\n",
    "    print(f\"alocoho:{wine}\")\n",
    "    print(f\"primary meal:{entree}\")\n",
    "    print(f\"snake:{dessert}\")"
   ]
  },
  {
   "cell_type": "code",
   "execution_count": 10,
   "metadata": {},
   "outputs": [
    {
     "name": "stdout",
     "output_type": "stream",
     "text": [
      "alocoho:beer\n",
      "primary meal:steak\n",
      "snake:milkshake\n"
     ]
    }
   ],
   "source": [
    "menu('beer', 'steak')"
   ]
  },
  {
   "cell_type": "code",
   "execution_count": 11,
   "metadata": {},
   "outputs": [
    {
     "name": "stdout",
     "output_type": "stream",
     "text": [
      "alocoho:beer\n",
      "primary meal:steak\n",
      "snake:cake\n"
     ]
    }
   ],
   "source": [
    "menu('beer', 'steak',dessert='cake')"
   ]
  }
 ],
 "metadata": {
  "kernelspec": {
   "display_name": "Python 3",
   "language": "python",
   "name": "python3"
  },
  "language_info": {
   "codemirror_mode": {
    "name": "ipython",
    "version": 3
   },
   "file_extension": ".py",
   "mimetype": "text/x-python",
   "name": "python",
   "nbconvert_exporter": "python",
   "pygments_lexer": "ipython3",
   "version": "3.11.9"
  }
 },
 "nbformat": 4,
 "nbformat_minor": 2
}
